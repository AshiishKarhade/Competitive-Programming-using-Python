{
 "cells": [
  {
   "cell_type": "markdown",
   "metadata": {},
   "source": [
    "## Recursion - Theory and Problems"
   ]
  },
  {
   "cell_type": "markdown",
   "metadata": {},
   "source": [
    "Given an unsorted array of N elements and an element X. The task is to write a recursive function to check whether the element X is present in the given array or not. \n",
    "\n",
    "Example:\n",
    "array[] = {1, 2, 3, 4, 5}\n",
    "X = 3.\n",
    "\n",
    "The function should return True, as 3 is \n",
    "present in the array."
   ]
  },
  {
   "cell_type": "code",
   "execution_count": 15,
   "metadata": {},
   "outputs": [],
   "source": [
    "# my solution\n",
    "def array_exists(arr, x):\n",
    "    if len(arr) == 0:\n",
    "        return False\n",
    "    else:\n",
    "        first = arr[0]\n",
    "        if first == x:\n",
    "            return True\n",
    "        return array_exists(arr[1:],x)    "
   ]
  },
  {
   "cell_type": "code",
   "execution_count": 19,
   "metadata": {},
   "outputs": [
    {
     "name": "stdout",
     "output_type": "stream",
     "text": [
      "True\n"
     ]
    }
   ],
   "source": [
    "print(array_exists([1,2,3,4], 1))"
   ]
  },
  {
   "cell_type": "code",
   "execution_count": null,
   "metadata": {},
   "outputs": [],
   "source": []
  },
  {
   "cell_type": "markdown",
   "metadata": {},
   "source": [
    "Given a string, the task is to write a recursive function to check if the given string is palindrome or not.\n",
    "\n",
    "Examples:\n",
    "Input : string = \"malayalam\"\n",
    "Output : Yes\n",
    "Reverse of malayalam is also\n",
    "malayalam.\n",
    "\n",
    "Input : string = \"max\"\n",
    "Output : No\n",
    "Reverse of max is not max."
   ]
  },
  {
   "cell_type": "code",
   "execution_count": 34,
   "metadata": {},
   "outputs": [],
   "source": [
    "def palindrome(string):\n",
    "    #base case\n",
    "    if len(string) == 0:\n",
    "        return True\n",
    "    else:\n",
    "    #recursive case\n",
    "        first = string[0]\n",
    "        last = string[-1]\n",
    "        return (first == last) and palindrome(string[1:-1])"
   ]
  },
  {
   "cell_type": "code",
   "execution_count": 38,
   "metadata": {},
   "outputs": [
    {
     "data": {
      "text/plain": [
       "True"
      ]
     },
     "execution_count": 38,
     "metadata": {},
     "output_type": "execute_result"
    }
   ],
   "source": [
    "palindrome('malayalam')"
   ]
  },
  {
   "cell_type": "markdown",
   "metadata": {},
   "source": [
    "Given a set represented as string, write a recursive code to print all subsets of it. The subsets can be printed in any order.\n",
    "\n",
    "Examples:\n",
    "Input :  set = \"abc\"\n",
    "Output : \"\". \"a\", \"b\", \"c\", \"ab\", \"ac\", \"bc\", \"abc\"\n",
    "\n",
    "Input : set = \"abcd\"\n",
    "Output : \"\" \"a\" \"ab\" \"abc\" \"abcd\" \"abd\" \"ac\" \"acd\"\n",
    "         \"ad\" \"b\" \"bc\" \"bcd\" \"bd\" \"c\" \"cd\" \"d\""
   ]
  },
  {
   "cell_type": "code",
   "execution_count": 85,
   "metadata": {},
   "outputs": [],
   "source": [
    "def subsets(string, idx=0, curr=\"\"):\n",
    "    if idx >= len(string):\n",
    "        print(curr)\n",
    "        return\n",
    "    subsets(string,idx+1, curr+string[idx])\n",
    "    subsets(string, idx+1, curr)"
   ]
  },
  {
   "cell_type": "code",
   "execution_count": 87,
   "metadata": {
    "scrolled": true
   },
   "outputs": [
    {
     "name": "stdout",
     "output_type": "stream",
     "text": [
      "abc\n",
      "ab\n",
      "ac\n",
      "a\n",
      "bc\n",
      "b\n",
      "c\n",
      "\n",
      "None\n"
     ]
    }
   ],
   "source": [
    "print(subsets(\"abc\"))"
   ]
  },
  {
   "cell_type": "code",
   "execution_count": null,
   "metadata": {},
   "outputs": [],
   "source": []
  }
 ],
 "metadata": {
  "kernelspec": {
   "display_name": "Python 3.7.4 64-bit",
   "language": "python",
   "name": "python37464bitb2a8da4387fe46f49dadb4e8e9833b86"
  },
  "language_info": {
   "codemirror_mode": {
    "name": "ipython",
    "version": 3
   },
   "file_extension": ".py",
   "mimetype": "text/x-python",
   "name": "python",
   "nbconvert_exporter": "python",
   "pygments_lexer": "ipython3",
   "version": "3.7.4"
  }
 },
 "nbformat": 4,
 "nbformat_minor": 4
}
